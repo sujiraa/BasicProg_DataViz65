{
  "nbformat": 4,
  "nbformat_minor": 0,
  "metadata": {
    "colab": {
      "name": "Quiz1",
      "provenance": [],
      "include_colab_link": true
    },
    "kernelspec": {
      "name": "python3",
      "display_name": "Python 3"
    },
    "language_info": {
      "name": "python"
    }
  },
  "cells": [
    {
      "cell_type": "markdown",
      "metadata": {
        "id": "view-in-github",
        "colab_type": "text"
      },
      "source": [
        "<a href=\"https://colab.research.google.com/github/sujiraa/BasicProg_DataViz65/blob/main/Quiz1.ipynb\" target=\"_parent\"><img src=\"https://colab.research.google.com/assets/colab-badge.svg\" alt=\"Open In Colab\"/></a>"
      ]
    },
    {
      "cell_type": "markdown",
      "source": [
        "Quiz 1 \n",
        "\n",
        "คำนวณเวลาเป็นความต่างของเวลาเป็นวินาทีของช่วงเวลาต่อไปนี้โดยใช้คำสั่ง split() ช่วย และ print ออกมาให้สวยงาม\n",
        "\n",
        "* 09:11:50 - 12:30:15\n",
        "* 13:41:07 - 20:00:18\n",
        "* 21:30:15 - 00:00:00\n",
        "* 00:00:00 - 23:59:59\n",
        "\n",
        "\n",
        "\n",
        "\n",
        "\n"
      ],
      "metadata": {
        "id": "FKKg2s03yfKC"
      }
    },
    {
      "cell_type": "code",
      "execution_count": null,
      "metadata": {
        "id": "JHgL5URByL6e",
        "colab": {
          "base_uri": "https://localhost:8080/"
        },
        "outputId": "12dcf807-24e1-4bcb-9ebd-4ed80ef19715"
      },
      "outputs": [
        {
          "output_type": "stream",
          "name": "stdout",
          "text": [
            "['09', '11', '50']\n",
            "['12', '30', '15']\n",
            "ความต่างเวลาเป็นวินาทีของ 09:11:50 - 12:30:15  ได้เท่ากับ 11905 วินาที\n"
          ]
        }
      ],
      "source": [
        "t1='09:11:50'\n",
        "t1_sp=t1.split(':')\n",
        "print(t1_sp)\n",
        "A1= int(t1_sp[0])*3600+int (t1_sp[1])*60+int (t1_sp[2])\n",
        "t2='12:30:15'\n",
        "t2_sp=t2.split(':')\n",
        "print(t2_sp)\n",
        "A2= int(t2_sp[0])*3600+int (t2_sp[1])*60+int (t2_sp[2])\n",
        "print(f'ความต่างเวลาเป็นวินาทีของ {t1} - {t2}  ได้เท่ากับ {A2-A1} วินาที')"
      ]
    },
    {
      "cell_type": "code",
      "source": [
        "t3='13:41:07'\n",
        "t3_sp=t3.split(':')\n",
        "print(t3_sp)\n",
        "B1= int(t3_sp[0])*3600+int (t3_sp[1])*60+int (t3_sp[2])\n",
        "t4='20:00:18'\n",
        "t4_sp=t4.split(':')\n",
        "print(t4_sp)\n",
        "B2= int(t4_sp[0])*3600+int (t4_sp[1])*60+int (t4_sp[2])\n",
        "print(f'ความต่างเวลาเป็นวินาทีของ {t1} - {t2}  ได้เท่ากับ {B2-B1} วินาที')\n"
      ],
      "metadata": {
        "colab": {
          "base_uri": "https://localhost:8080/"
        },
        "id": "wVaBHeTG_1qg",
        "outputId": "fc6f6ced-1335-4219-c319-c87b65b0a8ad"
      },
      "execution_count": null,
      "outputs": [
        {
          "output_type": "stream",
          "name": "stdout",
          "text": [
            "['13', '41', '07']\n",
            "['20', '00', '18']\n",
            "ความต่างเวลาเป็นวินาทีของ 13:41:07 - 20:00:18  ได้เท่ากับ 22751 วินาที\n"
          ]
        }
      ]
    },
    {
      "cell_type": "code",
      "source": [
        "t5='21:30:15'\n",
        "t5_sp=t5.split(':')\n",
        "print(t5_sp)\n",
        "C1= int(t5_sp[0])*3600+int (t5_sp[1])*60+int (t5_sp[2])\n",
        "tt6='00:00:00'\n",
        "t6='24:00:00'\n",
        "t6_sp=t6.split(':')\n",
        "print(t6_sp)\n",
        "C2= int(t6_sp[0])*3600+int (t6_sp[1])*60+int (t6_sp[2])\n",
        "print(f'ความต่างเวลาเป็นวินาทีของ {t5} - {tt6}  ได้เท่ากับ {C2-C1} วินาที')"
      ],
      "metadata": {
        "colab": {
          "base_uri": "https://localhost:8080/"
        },
        "id": "2nqr7sTcCFP-",
        "outputId": "da77d6cb-47a7-45ca-ec0e-5254b4b1605b"
      },
      "execution_count": null,
      "outputs": [
        {
          "output_type": "stream",
          "name": "stdout",
          "text": [
            "['21', '30', '15']\n",
            "['24', '00', '00']\n",
            "ความต่างเวลาเป็นวินาทีของ 21:30:15 - 00:00:00  ได้เท่ากับ 8985 วินาที\n"
          ]
        }
      ]
    },
    {
      "cell_type": "code",
      "source": [
        "tt7='00:00:00'\n",
        "t7='24:00:00'\n",
        "t7_sp=t7.split(':')\n",
        "print(t7_sp)\n",
        "D1= int(t7_sp[0])*3600+int (t7_sp[1])*60+int (t7_sp[2])\n",
        "t8='23:59:59'\n",
        "t8_sp=t8.split(':')\n",
        "print(t8_sp)\n",
        "D2= int(t8_sp[0])*3600+int (t8_sp[1])*60+int (t8_sp[2])\n",
        "print(f'ความต่างเวลาเป็นวินาทีของ {tt7} - {t8}  ได้เท่ากับ {D1-D2} วินาที')"
      ],
      "metadata": {
        "colab": {
          "base_uri": "https://localhost:8080/"
        },
        "id": "jARDCh56CZqk",
        "outputId": "66fdc997-ef7e-4067-cfac-8dc364e28910"
      },
      "execution_count": null,
      "outputs": [
        {
          "output_type": "stream",
          "name": "stdout",
          "text": [
            "['24', '00', '00']\n",
            "['23', '59', '59']\n",
            "ความต่างเวลาเป็นวินาทีของ 00:00:00 - 23:59:59  ได้เท่ากับ 1 วินาที\n"
          ]
        }
      ]
    }
  ]
}