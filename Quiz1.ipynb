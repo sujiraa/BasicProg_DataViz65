{
  "nbformat": 4,
  "nbformat_minor": 0,
  "metadata": {
    "colab": {
      "name": "Quiz1",
      "provenance": [],
      "include_colab_link": true
    },
    "kernelspec": {
      "name": "python3",
      "display_name": "Python 3"
    },
    "language_info": {
      "name": "python"
    }
  },
  "cells": [
    {
      "cell_type": "markdown",
      "metadata": {
        "id": "view-in-github",
        "colab_type": "text"
      },
      "source": [
        "<a href=\"https://colab.research.google.com/github/sujiraa/BasicProg_DataViz65/blob/main/Quiz1.ipynb\" target=\"_parent\"><img src=\"https://colab.research.google.com/assets/colab-badge.svg\" alt=\"Open In Colab\"/></a>"
      ]
    },
    {
      "cell_type": "markdown",
      "source": [
        "Quiz 1 \n",
        "\n",
        "คำนวณเวลาเป็นความต่างของเวลาเป็นวินาทีของช่วงเวลาต่อไปนี้โดยใช้คำสั่ง split() ช่วย และ print ออกมาให้สวยงาม\n",
        "\n",
        "* 09:11:50 - 12:30:15\n",
        "* 13:41:07 - 20:00:18\n",
        "* 21:30:15 - 00:00:00\n",
        "* 00:00:00 - 23:59:59\n",
        "\n",
        "\n",
        "\n",
        "\n",
        "\n"
      ],
      "metadata": {
        "id": "FKKg2s03yfKC"
      }
    },
    {
      "cell_type": "code",
      "execution_count": null,
      "metadata": {
        "id": "JHgL5URByL6e",
        "colab": {
          "base_uri": "https://localhost:8080/"
        },
        "outputId": "12dcf807-24e1-4bcb-9ebd-4ed80ef19715"
      },
      "outputs": [
        {
          "output_type": "stream",
          "name": "stdout",
          "text": [
            "['09', '11', '50']\n",
            "['12', '30', '15']\n",
            "ความต่างเวลาเป็นวินาทีของ 09:11:50 - 12:30:15  ได้เท่ากับ 11905 วินาที\n"
          ]
        }
      ],
      "source": [
        "t1='09:11:50'\n",
        "t1_sp=t1.split(':')\n",
        "print(t1_sp)\n",
        "A1= int(t1_sp[0])*3600+int (t1_sp[1])*60+int (t1_sp[2])\n",
        "t2='12:30:15'\n",
        "t2_sp=t2.split(':')\n",
        "print(t2_sp)\n",
        "A2= int(t2_sp[0])*3600+int (t2_sp[1])*60+int (t2_sp[2])\n",
        "print(f'ความต่างเวลาเป็นวินาทีของ {t1} - {t2}  ได้เท่ากับ {A2-A1} วินาที')"
      ]
    },
    {
      "cell_type": "code",
      "source": [
        "t3='13:41:07'\n",
        "t3_sp=t3.split(':')\n",
        "print(t3_sp)\n",
        "B1= int(t3_sp[0])*3600+int (t3_sp[1])*60+int (t3_sp[2])\n",
        "t4='20:00:18'\n",
        "t4_sp=t4.split(':')\n",
        "print(t4_sp)\n",
        "B2= int(t4_sp[0])*3600+int (t4_sp[1])*60+int (t4_sp[2])\n",
        "print(f'ความต่างเวลาเป็นวินาทีของ {t1} - {t2}  ได้เท่ากับ {B2-B1} วินาที')\n"
      ],
      "metadata": {
        "colab": {
          "base_uri": "https://localhost:8080/"
        },
        "id": "wVaBHeTG_1qg",
        "outputId": "fc6f6ced-1335-4219-c319-c87b65b0a8ad"
      },
      "execution_count": null,
      "outputs": [
        {
          "output_type": "stream",
          "name": "stdout",
          "text": [
            "['13', '41', '07']\n",
            "['20', '00', '18']\n",
            "ความต่างเวลาเป็นวินาทีของ 13:41:07 - 20:00:18  ได้เท่ากับ 22751 วินาที\n"
          ]
        }
      ]
    },
    {
      "cell_type": "code",
      "source": [
        "t5='21:30:15'\n",
        "t5_sp=t5.split(':')\n",
        "print(t5_sp)\n",
        "C1= int(t5_sp[0])*3600+int (t5_sp[1])*60+int (t5_sp[2])\n",
        "tt6='00:00:00'\n",
        "t6='24:00:00'\n",
        "t6_sp=t6.split(':')\n",
        "print(t6_sp)\n",
        "C2= int(t6_sp[0])*3600+int (t6_sp[1])*60+int (t6_sp[2])\n",
        "print(f'ความต่างเวลาเป็นวินาทีของ {t5} - {tt6}  ได้เท่ากับ {C2-C1} วินาที')"
      ],
      "metadata": {
        "colab": {
          "base_uri": "https://localhost:8080/"
        },
        "id": "2nqr7sTcCFP-",
        "outputId": "da77d6cb-47a7-45ca-ec0e-5254b4b1605b"
      },
      "execution_count": null,
      "outputs": [
        {
          "output_type": "stream",
          "name": "stdout",
          "text": [
            "['21', '30', '15']\n",
            "['24', '00', '00']\n",
            "ความต่างเวลาเป็นวินาทีของ 21:30:15 - 00:00:00  ได้เท่ากับ 8985 วินาที\n"
          ]
        }
      ]
    },
    {
      "cell_type": "code",
      "source": [
        "tt7='00:00:00'\n",
        "t7='24:00:00'\n",
        "t7_sp=t7.split(':')\n",
        "print(t7_sp)\n",
        "D1= int(t7_sp[0])*3600+int (t7_sp[1])*60+int (t7_sp[2])\n",
        "t8='23:59:59'\n",
        "t8_sp=t8.split(':')\n",
        "print(t8_sp)\n",
        "D2= int(t8_sp[0])*3600+int (t8_sp[1])*60+int (t8_sp[2])\n",
        "print(f'ความต่างเวลาเป็นวินาทีของ {tt7} - {t8}  ได้เท่ากับ {D1-D2} วินาที')"
      ],
      "metadata": {
        "colab": {
          "base_uri": "https://localhost:8080/"
        },
        "id": "jARDCh56CZqk",
        "outputId": "66fdc997-ef7e-4067-cfac-8dc364e28910"
      },
      "execution_count": null,
      "outputs": [
        {
          "output_type": "stream",
          "name": "stdout",
          "text": [
            "['24', '00', '00']\n",
            "['23', '59', '59']\n",
            "ความต่างเวลาเป็นวินาทีของ 00:00:00 - 23:59:59  ได้เท่ากับ 1 วินาที\n"
          ]
        }
      ]
    },
    {
      "cell_type": "markdown",
      "source": [
        "Quiz3\n",
        "\n",
        "เขียน function แสดงความต่างของเวลาโดย input อยู่ในรูปแบบ 'XX:YY:ZZ - AA:BB:CC'\n",
        "\n",
        "และวนลูปแสดงผลของ input ต่อไปนี้\n",
        "\n",
        "'09:11:50 - 12:30:15'\n",
        "'13:41:07 - 20:00:18'\n",
        "'00:00:00 - 23:59:59'\n",
        "'18:04:11 - 00:00:00'\n",
        "'21:30:00 - 03:05:15'\n",
        "ตัวอย่าง input '00:00:00-01:00:00'\n",
        "\n",
        "output ช่วงระยะเวลาระหว่าง 00:00:00 ถึง 01:00:00 มีเวลาทั้งหมด 3,600 วินาที"
      ],
      "metadata": {
        "id": "DG3aN26nPjGA"
      }
    },
    {
      "cell_type": "code",
      "source": [
        "def print_time(alltime):\n",
        "    for i in (alltime) : \n",
        "     start=alltime.split(\"-\")  \n",
        "     time1=start[0] \n",
        "     sp_time1=time1.split(\":\") \n",
        "     time2=start[1] \n",
        "     sp_time2=time2.split(\":\") \n",
        "     t1 = (int(sp_time1[0])*3600)+(int(sp_time1[1])*60)+int(sp_time1[2])\n",
        "     t2 = (int(sp_time2[0])*3600)+(int(sp_time2[1])*60)+int(sp_time2[2])\n",
        "     time3 = t2-t1\n",
        "     time1day = 86400\n",
        "    if time3 < 0 :\n",
        "      time4 = (time3+time1day)\n",
        "      print(f'ช่วงระยะเวลาระหว่าง{time1}ถึง{time2} มีเวลาทั้งหมด {time4:,} วินาที')\n",
        "    else :\n",
        "      print(f'ช่วงระยะเวลาระหว่าง{time1}ถึง{time2}มีเวลาทั้งหมด{time3:,}วินาที')"
      ],
      "metadata": {
        "id": "dEt3F8aXPhzU"
      },
      "execution_count": 11,
      "outputs": []
    },
    {
      "cell_type": "code",
      "source": [
        "print_time(\"09:11:50-12:30:15\")"
      ],
      "metadata": {
        "id": "ruf4RjoITLGI",
        "outputId": "6d2db8f3-8faf-4967-fa98-e8dbf3b100e7",
        "colab": {
          "base_uri": "https://localhost:8080/"
        }
      },
      "execution_count": 12,
      "outputs": [
        {
          "output_type": "stream",
          "name": "stdout",
          "text": [
            "ช่วงระยะเวลาระหว่าง09:11:50ถึง12:30:15มีเวลาทั้งหมด11,905วินาที\n"
          ]
        }
      ]
    },
    {
      "cell_type": "code",
      "source": [
        "print_time(\"13:41:07-20:00:18\")"
      ],
      "metadata": {
        "id": "px87ukcdTZ6d",
        "outputId": "20d754b1-59fb-475a-9e90-76afaee38d88",
        "colab": {
          "base_uri": "https://localhost:8080/"
        }
      },
      "execution_count": 13,
      "outputs": [
        {
          "output_type": "stream",
          "name": "stdout",
          "text": [
            "ช่วงระยะเวลาระหว่าง13:41:07ถึง20:00:18มีเวลาทั้งหมด22,751วินาที\n"
          ]
        }
      ]
    },
    {
      "cell_type": "code",
      "source": [
        "print_time(\"00:00:00-23:59:59\")"
      ],
      "metadata": {
        "id": "Ma4AWJLDTiwm",
        "outputId": "157b7064-d6ff-421e-9d3f-448b499967e4",
        "colab": {
          "base_uri": "https://localhost:8080/"
        }
      },
      "execution_count": 14,
      "outputs": [
        {
          "output_type": "stream",
          "name": "stdout",
          "text": [
            "ช่วงระยะเวลาระหว่าง00:00:00ถึง23:59:59มีเวลาทั้งหมด86,399วินาที\n"
          ]
        }
      ]
    },
    {
      "cell_type": "code",
      "source": [
        "print_time(\"18:04:11-00:00:00\")"
      ],
      "metadata": {
        "id": "_gccOy-QTvtF",
        "outputId": "19f73b2a-6a37-480d-81a9-f0be6f13598a",
        "colab": {
          "base_uri": "https://localhost:8080/"
        }
      },
      "execution_count": 15,
      "outputs": [
        {
          "output_type": "stream",
          "name": "stdout",
          "text": [
            "ช่วงระยะเวลาระหว่าง18:04:11ถึง00:00:00 มีเวลาทั้งหมด 21,349 วินาที\n"
          ]
        }
      ]
    },
    {
      "cell_type": "code",
      "source": [
        "print_time(\"21:30:00-03:05:15\")"
      ],
      "metadata": {
        "id": "n5Kcq1X2T350",
        "outputId": "c68b8f22-aafc-43ec-e62f-2c31bd11ce0a",
        "colab": {
          "base_uri": "https://localhost:8080/"
        }
      },
      "execution_count": 17,
      "outputs": [
        {
          "output_type": "stream",
          "name": "stdout",
          "text": [
            "ช่วงระยะเวลาระหว่าง21:30:00ถึง03:05:15 มีเวลาทั้งหมด 20,115 วินาที\n"
          ]
        }
      ]
    }
  ]
}