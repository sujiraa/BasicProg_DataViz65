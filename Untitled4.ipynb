{
  "nbformat": 4,
  "nbformat_minor": 0,
  "metadata": {
    "colab": {
      "name": "Untitled4.ipynb",
      "provenance": [],
      "authorship_tag": "ABX9TyODuuEAcCjFRgDsJIm9GmJU",
      "include_colab_link": true
    },
    "kernelspec": {
      "name": "python3",
      "display_name": "Python 3"
    },
    "language_info": {
      "name": "python"
    }
  },
  "cells": [
    {
      "cell_type": "markdown",
      "metadata": {
        "id": "view-in-github",
        "colab_type": "text"
      },
      "source": [
        "<a href=\"https://colab.research.google.com/github/sujiraa/BasicProg_DataViz65/blob/main/Untitled4.ipynb\" target=\"_parent\"><img src=\"https://colab.research.google.com/assets/colab-badge.svg\" alt=\"Open In Colab\"/></a>"
      ]
    },
    {
      "cell_type": "code",
      "source": [
        "HW1\n",
        "\n",
        "เขียน function แสดงความต่างของเวลา (Quiz1) โดย input อยู่ในรูปแบบ '09:11:50 - 12:30:15'\n",
        "\n",
        "และทดลองรัน\n",
        "\n",
        "'09:11:50 - 12:30:15'\n",
        "'13:41:07 - 20:00:18'\n",
        "'00:00:00 - 23:59:59'"
      ],
      "metadata": {
        "id": "chR5ObUbSDV-"
      },
      "execution_count": null,
      "outputs": []
    },
    {
      "cell_type": "code",
      "source": [
        "def print_time(mytime):\n",
        "    start=mytime.split(\"-\")  \n",
        "    time1=start[0] \n",
        "    sp_time1=time1.split(\":\") \n",
        "    time2=start[1] \n",
        "    sp_time2=time2.split(\":\") \n",
        "    t1 = (int(sp_time1[0])*3600)+(int(sp_time1[1])*60)+int(sp_time1[2])\n",
        "    t2 = (int(sp_time2[0])*3600)+(int(sp_time2[1])*60)+int(sp_time2[2])\n",
        "    time3 = t2-t1\n",
        "    print(f'{time1}-{time2} ความต่างของเวลา = {time3} วินาที')"
      ],
      "metadata": {
        "id": "WzIaj1lMa0Cf"
      },
      "execution_count": 23,
      "outputs": []
    },
    {
      "cell_type": "code",
      "source": [
        "print_time(\"09:11:50-12:30:15\")"
      ],
      "metadata": {
        "colab": {
          "base_uri": "https://localhost:8080/"
        },
        "id": "gCzAPvJ4bA7C",
        "outputId": "a907443a-105a-41d9-ef25-0ef281c7e408"
      },
      "execution_count": 24,
      "outputs": [
        {
          "output_type": "stream",
          "name": "stdout",
          "text": [
            "09:11:50-12:30:15 ความต่างของเวลา = 11905 วินาที\n"
          ]
        }
      ]
    },
    {
      "cell_type": "code",
      "source": [
        "print_time(\"13:41:07-20:00:18\")"
      ],
      "metadata": {
        "colab": {
          "base_uri": "https://localhost:8080/"
        },
        "id": "Em9BFjfnbVy5",
        "outputId": "42521cbd-7ff4-4903-c780-7478e2234d7a"
      },
      "execution_count": 25,
      "outputs": [
        {
          "output_type": "stream",
          "name": "stdout",
          "text": [
            "13:41:07-20:00:18 ความต่างของเวลา = 22751 วินาที\n"
          ]
        }
      ]
    },
    {
      "cell_type": "code",
      "source": [
        "print_time(\"00:00:00-23:59:59\")"
      ],
      "metadata": {
        "colab": {
          "base_uri": "https://localhost:8080/"
        },
        "id": "hSBRKOXlblp1",
        "outputId": "c9c40942-0f54-4820-a75e-b2e0dfa8f03b"
      },
      "execution_count": 26,
      "outputs": [
        {
          "output_type": "stream",
          "name": "stdout",
          "text": [
            "00:00:00-23:59:59 ความต่างของเวลา = 86399 วินาที\n"
          ]
        }
      ]
    }
  ]
}