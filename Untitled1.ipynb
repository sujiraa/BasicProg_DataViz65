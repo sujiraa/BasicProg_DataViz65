{
  "nbformat": 4,
  "nbformat_minor": 0,
  "metadata": {
    "colab": {
      "name": "Untitled1.ipynb",
      "provenance": [],
      "authorship_tag": "ABX9TyPeg76coDd1kuCUXLiu0axF",
      "include_colab_link": true
    },
    "kernelspec": {
      "name": "python3",
      "display_name": "Python 3"
    },
    "language_info": {
      "name": "python"
    }
  },
  "cells": [
    {
      "cell_type": "markdown",
      "metadata": {
        "id": "view-in-github",
        "colab_type": "text"
      },
      "source": [
        "<a href=\"https://colab.research.google.com/github/sujiraa/BasicProg_DataViz65/blob/main/Untitled1.ipynb\" target=\"_parent\"><img src=\"https://colab.research.google.com/assets/colab-badge.svg\" alt=\"Open In Colab\"/></a>"
      ]
    },
    {
      "cell_type": "code",
      "execution_count": 1,
      "metadata": {
        "colab": {
          "base_uri": "https://localhost:8080/"
        },
        "id": "LiiSrXNEOVFu",
        "outputId": "89ffbcbb-a21a-4399-e58c-4e8b3a4eb547"
      },
      "outputs": [
        {
          "output_type": "stream",
          "name": "stdout",
          "text": [
            "test\n"
          ]
        }
      ],
      "source": [
        "print('test')"
      ]
    },
    {
      "cell_type": "markdown",
      "source": [
        "ผลการรันเเสดงออกมา 2 รูปเเบบ\n",
        "1ถ้าไม่มีตัวเเเปรมารับ ก็จะเเสดงผลที่หน้าจอ\n",
        "2ถ้ามีตัวเเปร ผลจะรันไปอยู่ในตัเเปร"
      ],
      "metadata": {
        "id": "agtZvb6TP5On"
      }
    },
    {
      "cell_type": "code",
      "source": [
        "1+3   # ไม่มีตัวเเปรมารับ"
      ],
      "metadata": {
        "colab": {
          "base_uri": "https://localhost:8080/"
        },
        "id": "fXgkUZuSQmzI",
        "outputId": "b045e6da-61d5-42d5-a913-a5b4a00d1b00"
      },
      "execution_count": 5,
      "outputs": [
        {
          "output_type": "execute_result",
          "data": {
            "text/plain": [
              "4"
            ]
          },
          "metadata": {},
          "execution_count": 5
        }
      ]
    },
    {
      "cell_type": "code",
      "source": [
        "A= 1 + 3     # มีตัวเเปร a มารับผลบวก"
      ],
      "metadata": {
        "id": "rh7TLcPFPi3S"
      },
      "execution_count": 2,
      "outputs": []
    },
    {
      "cell_type": "code",
      "source": [
        "print(A)"
      ],
      "metadata": {
        "colab": {
          "base_uri": "https://localhost:8080/"
        },
        "id": "Yz_g4a8XPo7e",
        "outputId": "2b7c46e7-b08b-4c2d-d229-2a7138d48972"
      },
      "execution_count": 4,
      "outputs": [
        {
          "output_type": "stream",
          "name": "stdout",
          "text": [
            "4\n"
          ]
        }
      ]
    },
    {
      "cell_type": "code",
      "source": [
        "vartest = 2.4"
      ],
      "metadata": {
        "id": "QLP-GYhoSMYW"
      },
      "execution_count": 7,
      "outputs": []
    },
    {
      "cell_type": "code",
      "source": [
        "vartest"
      ],
      "metadata": {
        "colab": {
          "base_uri": "https://localhost:8080/"
        },
        "id": "UJeDD8BeSOyx",
        "outputId": "65537d3c-4360-4a0a-a98a-070be6e4c86a"
      },
      "execution_count": 8,
      "outputs": [
        {
          "output_type": "execute_result",
          "data": {
            "text/plain": [
              "2.4"
            ]
          },
          "metadata": {},
          "execution_count": 8
        }
      ]
    },
    {
      "cell_type": "code",
      "source": [
        "vartest1 =1+3"
      ],
      "metadata": {
        "id": "DLrQlSL6SVyt"
      },
      "execution_count": 16,
      "outputs": []
    },
    {
      "cell_type": "code",
      "source": [
        "print(vartest1)"
      ],
      "metadata": {
        "colab": {
          "base_uri": "https://localhost:8080/"
        },
        "id": "9z_YOSHkSneH",
        "outputId": "36af5e16-5bce-4d62-96dd-4a1aa6890ed3"
      },
      "execution_count": 17,
      "outputs": [
        {
          "output_type": "stream",
          "name": "stdout",
          "text": [
            "4\n"
          ]
        }
      ]
    },
    {
      "cell_type": "markdown",
      "source": [
        "## ข้อกำหนดการตั้งชื่อ\n",
        "1 ตั้งให้สื่อคความหมาย\n",
        "2 ต้องเป็นภาษาอังกฤษ\n",
        "3 มีตัวเลขได้\n",
        "4 ห้ามเว้นวรรค\n",
        "5 ตัวพิมเล็ก ใหญ่ มีค่าไม่เท่ากัน"
      ],
      "metadata": {
        "id": "jL-WXEvjWBB6"
      }
    },
    {
      "cell_type": "code",
      "source": [
        "print(f'   หนึ่ง บวก สอง  {1+2}')"
      ],
      "metadata": {
        "colab": {
          "base_uri": "https://localhost:8080/"
        },
        "id": "n3MMRs7iXxV7",
        "outputId": "67a4202f-8837-4ca7-da4a-22579803626d"
      },
      "execution_count": 18,
      "outputs": [
        {
          "output_type": "stream",
          "name": "stdout",
          "text": [
            "   หนึ่ง บวก สอง  3\n"
          ]
        }
      ]
    },
    {
      "cell_type": "markdown",
      "source": [
        "# ชนิดตัวเเปร"
      ],
      "metadata": {
        "id": "Am0RIEejeqz-"
      }
    },
    {
      "cell_type": "code",
      "source": [
        "a= \"Ch\""
      ],
      "metadata": {
        "id": "2kWwrGVReynb"
      },
      "execution_count": 20,
      "outputs": []
    },
    {
      "cell_type": "code",
      "source": [
        "b = 'aracter'"
      ],
      "metadata": {
        "id": "_ng0IUn5e6an"
      },
      "execution_count": 21,
      "outputs": []
    },
    {
      "cell_type": "code",
      "source": [
        "print(f'a={a} b={b}, then {a}+{b} = {a+b}')"
      ],
      "metadata": {
        "colab": {
          "base_uri": "https://localhost:8080/"
        },
        "id": "oTqLrxdufAap",
        "outputId": "e01f87df-8ac8-45b8-9693-14a1ea37ed9e"
      },
      "execution_count": 22,
      "outputs": [
        {
          "output_type": "stream",
          "name": "stdout",
          "text": [
            "a=Ch b=aracter, then Ch+aracter = Character\n"
          ]
        }
      ]
    },
    {
      "cell_type": "markdown",
      "source": [
        "# จำนวนเต็ม\n"
      ],
      "metadata": {
        "id": "PdWaSeIqfEX_"
      }
    },
    {
      "cell_type": "code",
      "source": [
        "int_a = 7\n",
        "int_b = 2"
      ],
      "metadata": {
        "id": "LTcigtQzfJie"
      },
      "execution_count": 23,
      "outputs": []
    },
    {
      "cell_type": "code",
      "source": [
        "int_c = int_a + int_b\n",
        "print(int_c)"
      ],
      "metadata": {
        "colab": {
          "base_uri": "https://localhost:8080/"
        },
        "id": "mtFzCPICfNfd",
        "outputId": "19a23c7b-b60f-4a41-b588-61fe850478a4"
      },
      "execution_count": 24,
      "outputs": [
        {
          "output_type": "stream",
          "name": "stdout",
          "text": [
            "9\n"
          ]
        }
      ]
    },
    {
      "cell_type": "markdown",
      "source": [
        "# จำนนจริงทศนิยม"
      ],
      "metadata": {
        "id": "YEKSp4aGfQio"
      }
    },
    {
      "cell_type": "code",
      "source": [
        "fl_a = 7."
      ],
      "metadata": {
        "id": "h60aU83nfVxD"
      },
      "execution_count": 25,
      "outputs": []
    },
    {
      "cell_type": "code",
      "source": [
        "fl_a"
      ],
      "metadata": {
        "colab": {
          "base_uri": "https://localhost:8080/"
        },
        "id": "SNFLUCwCfcQ3",
        "outputId": "a773092a-ffee-46d5-e8d2-b3a8f82167d6"
      },
      "execution_count": 26,
      "outputs": [
        {
          "output_type": "execute_result",
          "data": {
            "text/plain": [
              "7.0"
            ]
          },
          "metadata": {},
          "execution_count": 26
        }
      ]
    },
    {
      "cell_type": "markdown",
      "source": [
        "# ตัวแปรที่มีค่า True หรือ False"
      ],
      "metadata": {
        "id": "CFD7804dfnh6"
      }
    },
    {
      "cell_type": "code",
      "source": [
        "b_T = True"
      ],
      "metadata": {
        "id": "OkEOLnN0frSj"
      },
      "execution_count": 27,
      "outputs": []
    },
    {
      "cell_type": "code",
      "source": [
        "print(b_T )"
      ],
      "metadata": {
        "colab": {
          "base_uri": "https://localhost:8080/"
        },
        "id": "irTojGwIf6oO",
        "outputId": "a6bd5629-0297-403d-c13d-e05834b2c564"
      },
      "execution_count": 28,
      "outputs": [
        {
          "output_type": "stream",
          "name": "stdout",
          "text": [
            "True\n"
          ]
        }
      ]
    },
    {
      "cell_type": "markdown",
      "source": [
        " # จำนวนเชิงซ้อน"
      ],
      "metadata": {
        "id": "Cb9BijsKgBt8"
      }
    },
    {
      "cell_type": "code",
      "source": [
        "x = 1 + 2j"
      ],
      "metadata": {
        "id": "oURLhA_HgEh1"
      },
      "execution_count": 29,
      "outputs": []
    },
    {
      "cell_type": "code",
      "source": [
        "print(x)"
      ],
      "metadata": {
        "colab": {
          "base_uri": "https://localhost:8080/"
        },
        "id": "LbkZQ_PpgJnk",
        "outputId": "5ed0b7b5-5391-4ed9-b2b4-5c1838219ffa"
      },
      "execution_count": 30,
      "outputs": [
        {
          "output_type": "stream",
          "name": "stdout",
          "text": [
            "(1+2j)\n"
          ]
        }
      ]
    },
    {
      "cell_type": "markdown",
      "source": [
        "จบวันที่ 29 มิย 65"
      ],
      "metadata": {
        "id": "hWw0lbaeb-w1"
      }
    },
    {
      "cell_type": "markdown",
      "source": [
        ""
      ],
      "metadata": {
        "id": "7qBWdCK8OmhC"
      }
    }
  ]
}