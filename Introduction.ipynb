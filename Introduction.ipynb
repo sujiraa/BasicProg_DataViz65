{
  "nbformat": 4,
  "nbformat_minor": 0,
  "metadata": {
    "colab": {
      "name": "Introduction.ipynb",
      "provenance": [],
      "authorship_tag": "ABX9TyNaGwls1UWN4mtwPgzNOHPj",
      "include_colab_link": true
    },
    "kernelspec": {
      "name": "python3",
      "display_name": "Python 3"
    },
    "language_info": {
      "name": "python"
    }
  },
  "cells": [
    {
      "cell_type": "markdown",
      "metadata": {
        "id": "view-in-github",
        "colab_type": "text"
      },
      "source": [
        "<a href=\"https://colab.research.google.com/github/sujiraa/BasicProg_DataViz65/blob/main/Introduction.ipynb\" target=\"_parent\"><img src=\"https://colab.research.google.com/assets/colab-badge.svg\" alt=\"Open In Colab\"/></a>"
      ]
    },
    {
      "cell_type": "code",
      "source": [
        ""
      ],
      "metadata": {
        "id": "aKyoLUtWFtVM"
      },
      "execution_count": null,
      "outputs": []
    },
    {
      "cell_type": "markdown",
      "source": [
        "#Markdown"
      ],
      "metadata": {
        "id": "WzgQOBgfGVzZ"
      }
    },
    {
      "cell_type": "markdown",
      "source": [
        "hii"
      ],
      "metadata": {
        "id": "ALGnIIyaGa7l"
      }
    },
    {
      "cell_type": "markdown",
      "source": [
        "สุจิรา มันหาท้าว"
      ],
      "metadata": {
        "id": "Zowcw5oxHce2"
      }
    },
    {
      "cell_type": "code",
      "source": [
        ""
      ],
      "metadata": {
        "id": "cwMqBpHpHgUk"
      },
      "execution_count": null,
      "outputs": []
    }
  ]
}